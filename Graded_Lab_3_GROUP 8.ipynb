{
 "cells": [
  {
   "cell_type": "markdown",
   "metadata": {},
   "source": [
    "## DAB200 -- Graded Lab 3\n",
    "\n",
    "In this lab, you will gain some experience in dealing with missing data and further practice converting non-numeric features in a dataset to numeric.\n",
    "\n",
    "**Target**: to predict `Comb Unadj FE - Conventional Fuel`"
   ]
  },
  {
   "cell_type": "markdown",
   "metadata": {},
   "source": [
    "**Data set**: make sure you use the data assigned to your group!\n",
    "\n",
    "| Groups | Data set |\n",
    "| :-: | :-: |\n",
    "| 1-3 | veh14_missing.csv |\n",
    "| 4-5 | veh15_missing.csv |\n",
    "| 6-8 | veh16_missing.csv |\n",
    "| 9-11 | veh17_missing.csv |\n",
    "| 12-14 | veh18_missing.csv |\n",
    "| 15-17 | veh19_missing.csv |\n",
    "\n",
    "**Important Notes:**\n",
    "- Use [Chapter 7](https://mlbook.explained.ai/bulldozer-intro.html) of the textbook as a **guide**:\n",
    "     - you only need to use **random forest** models;\n",
    "- Code submitted for this lab should be:\n",
    "     - error free\n",
    "         - to make sure this is the case, before submitting, close all Jupyter notebooks, exit Anaconda, reload the lab notebook and execute all cells\n",
    "     - final code\n",
    "         - this means that I don't want to see every piece of code you try as you work through this lab but only the final code; only the code that fulfills the objective\n",
    "- Use the **out-of-bag score** to evaluate models\n",
    "     - Read Section 5.2 carefully so that you use this method properly\n",
    "     - The oob score that you provide should be the average of 10 runs\n",
    "- Don't make assumptions!\n"
   ]
  },
  {
   "cell_type": "markdown",
   "metadata": {},
   "source": [
    "### Part 0\n",
    "\n",
    "Please provide the following information:\n",
    " - Group Number - 8\n",
    " - Group Members\n",
    "     - Ardhra Santhosh (0858704)\n",
    "     - Athulya Ajayan (0852788)\n",
    "     - Joann Prathap (0859054)\n",
    "     - Sree Vishnu Kaniyankandi (0856360)\n",
    "\n",
    "     "
   ]
  },
  {
   "cell_type": "markdown",
   "metadata": {},
   "source": [
    "### Part 1 - Create and evaluate an initial model\n",
    "\n",
    "In this part you should: \n",
    " - use Section 7.3 of the textbook as a guide, except:\n",
    "     - use all of the data; and\n",
    "     - use 150 decision trees in your random forest models\n",
    " - read in the data\n",
    " - isolate all numeric features from original data set\n",
    " - fill in any missing values with 0\n",
    " - create and evaluate a baseline model \n",
    "\n",
    "#### Code (10 marks)"
   ]
  },
  {
   "cell_type": "code",
   "execution_count": 4,
   "metadata": {},
   "outputs": [],
   "source": [
    "import pandas as pd\n",
    "from sklearn.ensemble import RandomForestRegressor\n",
    "\n"
   ]
  },
  {
   "cell_type": "code",
   "execution_count": 5,
   "metadata": {},
   "outputs": [
    {
     "ename": "FileNotFoundError",
     "evalue": "[Errno 2] No such file or directory: 'veh16_missing.csv'",
     "output_type": "error",
     "traceback": [
      "\u001b[1;31m---------------------------------------------------------------------------\u001b[0m",
      "\u001b[1;31mFileNotFoundError\u001b[0m                         Traceback (most recent call last)",
      "Cell \u001b[1;32mIn[5], line 1\u001b[0m\n\u001b[1;32m----> 1\u001b[0m veh \u001b[38;5;241m=\u001b[39m \u001b[43mpd\u001b[49m\u001b[38;5;241;43m.\u001b[39;49m\u001b[43mread_csv\u001b[49m\u001b[43m(\u001b[49m\u001b[38;5;124;43m'\u001b[39;49m\u001b[38;5;124;43mveh16_missing.csv\u001b[39;49m\u001b[38;5;124;43m'\u001b[39;49m\u001b[43m)\u001b[49m\n\u001b[0;32m      2\u001b[0m \u001b[38;5;28mprint\u001b[39m(veh\u001b[38;5;241m.\u001b[39mshape)\n",
      "File \u001b[1;32m~\\AppData\\Local\\Packages\\PythonSoftwareFoundation.Python.3.12_qbz5n2kfra8p0\\LocalCache\\local-packages\\Python312\\site-packages\\pandas\\io\\parsers\\readers.py:948\u001b[0m, in \u001b[0;36mread_csv\u001b[1;34m(filepath_or_buffer, sep, delimiter, header, names, index_col, usecols, dtype, engine, converters, true_values, false_values, skipinitialspace, skiprows, skipfooter, nrows, na_values, keep_default_na, na_filter, verbose, skip_blank_lines, parse_dates, infer_datetime_format, keep_date_col, date_parser, date_format, dayfirst, cache_dates, iterator, chunksize, compression, thousands, decimal, lineterminator, quotechar, quoting, doublequote, escapechar, comment, encoding, encoding_errors, dialect, on_bad_lines, delim_whitespace, low_memory, memory_map, float_precision, storage_options, dtype_backend)\u001b[0m\n\u001b[0;32m    935\u001b[0m kwds_defaults \u001b[38;5;241m=\u001b[39m _refine_defaults_read(\n\u001b[0;32m    936\u001b[0m     dialect,\n\u001b[0;32m    937\u001b[0m     delimiter,\n\u001b[1;32m   (...)\u001b[0m\n\u001b[0;32m    944\u001b[0m     dtype_backend\u001b[38;5;241m=\u001b[39mdtype_backend,\n\u001b[0;32m    945\u001b[0m )\n\u001b[0;32m    946\u001b[0m kwds\u001b[38;5;241m.\u001b[39mupdate(kwds_defaults)\n\u001b[1;32m--> 948\u001b[0m \u001b[38;5;28;01mreturn\u001b[39;00m \u001b[43m_read\u001b[49m\u001b[43m(\u001b[49m\u001b[43mfilepath_or_buffer\u001b[49m\u001b[43m,\u001b[49m\u001b[43m \u001b[49m\u001b[43mkwds\u001b[49m\u001b[43m)\u001b[49m\n",
      "File \u001b[1;32m~\\AppData\\Local\\Packages\\PythonSoftwareFoundation.Python.3.12_qbz5n2kfra8p0\\LocalCache\\local-packages\\Python312\\site-packages\\pandas\\io\\parsers\\readers.py:611\u001b[0m, in \u001b[0;36m_read\u001b[1;34m(filepath_or_buffer, kwds)\u001b[0m\n\u001b[0;32m    608\u001b[0m _validate_names(kwds\u001b[38;5;241m.\u001b[39mget(\u001b[38;5;124m\"\u001b[39m\u001b[38;5;124mnames\u001b[39m\u001b[38;5;124m\"\u001b[39m, \u001b[38;5;28;01mNone\u001b[39;00m))\n\u001b[0;32m    610\u001b[0m \u001b[38;5;66;03m# Create the parser.\u001b[39;00m\n\u001b[1;32m--> 611\u001b[0m parser \u001b[38;5;241m=\u001b[39m \u001b[43mTextFileReader\u001b[49m\u001b[43m(\u001b[49m\u001b[43mfilepath_or_buffer\u001b[49m\u001b[43m,\u001b[49m\u001b[43m \u001b[49m\u001b[38;5;241;43m*\u001b[39;49m\u001b[38;5;241;43m*\u001b[39;49m\u001b[43mkwds\u001b[49m\u001b[43m)\u001b[49m\n\u001b[0;32m    613\u001b[0m \u001b[38;5;28;01mif\u001b[39;00m chunksize \u001b[38;5;129;01mor\u001b[39;00m iterator:\n\u001b[0;32m    614\u001b[0m     \u001b[38;5;28;01mreturn\u001b[39;00m parser\n",
      "File \u001b[1;32m~\\AppData\\Local\\Packages\\PythonSoftwareFoundation.Python.3.12_qbz5n2kfra8p0\\LocalCache\\local-packages\\Python312\\site-packages\\pandas\\io\\parsers\\readers.py:1448\u001b[0m, in \u001b[0;36mTextFileReader.__init__\u001b[1;34m(self, f, engine, **kwds)\u001b[0m\n\u001b[0;32m   1445\u001b[0m     \u001b[38;5;28mself\u001b[39m\u001b[38;5;241m.\u001b[39moptions[\u001b[38;5;124m\"\u001b[39m\u001b[38;5;124mhas_index_names\u001b[39m\u001b[38;5;124m\"\u001b[39m] \u001b[38;5;241m=\u001b[39m kwds[\u001b[38;5;124m\"\u001b[39m\u001b[38;5;124mhas_index_names\u001b[39m\u001b[38;5;124m\"\u001b[39m]\n\u001b[0;32m   1447\u001b[0m \u001b[38;5;28mself\u001b[39m\u001b[38;5;241m.\u001b[39mhandles: IOHandles \u001b[38;5;241m|\u001b[39m \u001b[38;5;28;01mNone\u001b[39;00m \u001b[38;5;241m=\u001b[39m \u001b[38;5;28;01mNone\u001b[39;00m\n\u001b[1;32m-> 1448\u001b[0m \u001b[38;5;28mself\u001b[39m\u001b[38;5;241m.\u001b[39m_engine \u001b[38;5;241m=\u001b[39m \u001b[38;5;28;43mself\u001b[39;49m\u001b[38;5;241;43m.\u001b[39;49m\u001b[43m_make_engine\u001b[49m\u001b[43m(\u001b[49m\u001b[43mf\u001b[49m\u001b[43m,\u001b[49m\u001b[43m \u001b[49m\u001b[38;5;28;43mself\u001b[39;49m\u001b[38;5;241;43m.\u001b[39;49m\u001b[43mengine\u001b[49m\u001b[43m)\u001b[49m\n",
      "File \u001b[1;32m~\\AppData\\Local\\Packages\\PythonSoftwareFoundation.Python.3.12_qbz5n2kfra8p0\\LocalCache\\local-packages\\Python312\\site-packages\\pandas\\io\\parsers\\readers.py:1705\u001b[0m, in \u001b[0;36mTextFileReader._make_engine\u001b[1;34m(self, f, engine)\u001b[0m\n\u001b[0;32m   1703\u001b[0m     \u001b[38;5;28;01mif\u001b[39;00m \u001b[38;5;124m\"\u001b[39m\u001b[38;5;124mb\u001b[39m\u001b[38;5;124m\"\u001b[39m \u001b[38;5;129;01mnot\u001b[39;00m \u001b[38;5;129;01min\u001b[39;00m mode:\n\u001b[0;32m   1704\u001b[0m         mode \u001b[38;5;241m+\u001b[39m\u001b[38;5;241m=\u001b[39m \u001b[38;5;124m\"\u001b[39m\u001b[38;5;124mb\u001b[39m\u001b[38;5;124m\"\u001b[39m\n\u001b[1;32m-> 1705\u001b[0m \u001b[38;5;28mself\u001b[39m\u001b[38;5;241m.\u001b[39mhandles \u001b[38;5;241m=\u001b[39m \u001b[43mget_handle\u001b[49m\u001b[43m(\u001b[49m\n\u001b[0;32m   1706\u001b[0m \u001b[43m    \u001b[49m\u001b[43mf\u001b[49m\u001b[43m,\u001b[49m\n\u001b[0;32m   1707\u001b[0m \u001b[43m    \u001b[49m\u001b[43mmode\u001b[49m\u001b[43m,\u001b[49m\n\u001b[0;32m   1708\u001b[0m \u001b[43m    \u001b[49m\u001b[43mencoding\u001b[49m\u001b[38;5;241;43m=\u001b[39;49m\u001b[38;5;28;43mself\u001b[39;49m\u001b[38;5;241;43m.\u001b[39;49m\u001b[43moptions\u001b[49m\u001b[38;5;241;43m.\u001b[39;49m\u001b[43mget\u001b[49m\u001b[43m(\u001b[49m\u001b[38;5;124;43m\"\u001b[39;49m\u001b[38;5;124;43mencoding\u001b[39;49m\u001b[38;5;124;43m\"\u001b[39;49m\u001b[43m,\u001b[49m\u001b[43m \u001b[49m\u001b[38;5;28;43;01mNone\u001b[39;49;00m\u001b[43m)\u001b[49m\u001b[43m,\u001b[49m\n\u001b[0;32m   1709\u001b[0m \u001b[43m    \u001b[49m\u001b[43mcompression\u001b[49m\u001b[38;5;241;43m=\u001b[39;49m\u001b[38;5;28;43mself\u001b[39;49m\u001b[38;5;241;43m.\u001b[39;49m\u001b[43moptions\u001b[49m\u001b[38;5;241;43m.\u001b[39;49m\u001b[43mget\u001b[49m\u001b[43m(\u001b[49m\u001b[38;5;124;43m\"\u001b[39;49m\u001b[38;5;124;43mcompression\u001b[39;49m\u001b[38;5;124;43m\"\u001b[39;49m\u001b[43m,\u001b[49m\u001b[43m \u001b[49m\u001b[38;5;28;43;01mNone\u001b[39;49;00m\u001b[43m)\u001b[49m\u001b[43m,\u001b[49m\n\u001b[0;32m   1710\u001b[0m \u001b[43m    \u001b[49m\u001b[43mmemory_map\u001b[49m\u001b[38;5;241;43m=\u001b[39;49m\u001b[38;5;28;43mself\u001b[39;49m\u001b[38;5;241;43m.\u001b[39;49m\u001b[43moptions\u001b[49m\u001b[38;5;241;43m.\u001b[39;49m\u001b[43mget\u001b[49m\u001b[43m(\u001b[49m\u001b[38;5;124;43m\"\u001b[39;49m\u001b[38;5;124;43mmemory_map\u001b[39;49m\u001b[38;5;124;43m\"\u001b[39;49m\u001b[43m,\u001b[49m\u001b[43m \u001b[49m\u001b[38;5;28;43;01mFalse\u001b[39;49;00m\u001b[43m)\u001b[49m\u001b[43m,\u001b[49m\n\u001b[0;32m   1711\u001b[0m \u001b[43m    \u001b[49m\u001b[43mis_text\u001b[49m\u001b[38;5;241;43m=\u001b[39;49m\u001b[43mis_text\u001b[49m\u001b[43m,\u001b[49m\n\u001b[0;32m   1712\u001b[0m \u001b[43m    \u001b[49m\u001b[43merrors\u001b[49m\u001b[38;5;241;43m=\u001b[39;49m\u001b[38;5;28;43mself\u001b[39;49m\u001b[38;5;241;43m.\u001b[39;49m\u001b[43moptions\u001b[49m\u001b[38;5;241;43m.\u001b[39;49m\u001b[43mget\u001b[49m\u001b[43m(\u001b[49m\u001b[38;5;124;43m\"\u001b[39;49m\u001b[38;5;124;43mencoding_errors\u001b[39;49m\u001b[38;5;124;43m\"\u001b[39;49m\u001b[43m,\u001b[49m\u001b[43m \u001b[49m\u001b[38;5;124;43m\"\u001b[39;49m\u001b[38;5;124;43mstrict\u001b[39;49m\u001b[38;5;124;43m\"\u001b[39;49m\u001b[43m)\u001b[49m\u001b[43m,\u001b[49m\n\u001b[0;32m   1713\u001b[0m \u001b[43m    \u001b[49m\u001b[43mstorage_options\u001b[49m\u001b[38;5;241;43m=\u001b[39;49m\u001b[38;5;28;43mself\u001b[39;49m\u001b[38;5;241;43m.\u001b[39;49m\u001b[43moptions\u001b[49m\u001b[38;5;241;43m.\u001b[39;49m\u001b[43mget\u001b[49m\u001b[43m(\u001b[49m\u001b[38;5;124;43m\"\u001b[39;49m\u001b[38;5;124;43mstorage_options\u001b[39;49m\u001b[38;5;124;43m\"\u001b[39;49m\u001b[43m,\u001b[49m\u001b[43m \u001b[49m\u001b[38;5;28;43;01mNone\u001b[39;49;00m\u001b[43m)\u001b[49m\u001b[43m,\u001b[49m\n\u001b[0;32m   1714\u001b[0m \u001b[43m\u001b[49m\u001b[43m)\u001b[49m\n\u001b[0;32m   1715\u001b[0m \u001b[38;5;28;01massert\u001b[39;00m \u001b[38;5;28mself\u001b[39m\u001b[38;5;241m.\u001b[39mhandles \u001b[38;5;129;01mis\u001b[39;00m \u001b[38;5;129;01mnot\u001b[39;00m \u001b[38;5;28;01mNone\u001b[39;00m\n\u001b[0;32m   1716\u001b[0m f \u001b[38;5;241m=\u001b[39m \u001b[38;5;28mself\u001b[39m\u001b[38;5;241m.\u001b[39mhandles\u001b[38;5;241m.\u001b[39mhandle\n",
      "File \u001b[1;32m~\\AppData\\Local\\Packages\\PythonSoftwareFoundation.Python.3.12_qbz5n2kfra8p0\\LocalCache\\local-packages\\Python312\\site-packages\\pandas\\io\\common.py:863\u001b[0m, in \u001b[0;36mget_handle\u001b[1;34m(path_or_buf, mode, encoding, compression, memory_map, is_text, errors, storage_options)\u001b[0m\n\u001b[0;32m    858\u001b[0m \u001b[38;5;28;01melif\u001b[39;00m \u001b[38;5;28misinstance\u001b[39m(handle, \u001b[38;5;28mstr\u001b[39m):\n\u001b[0;32m    859\u001b[0m     \u001b[38;5;66;03m# Check whether the filename is to be opened in binary mode.\u001b[39;00m\n\u001b[0;32m    860\u001b[0m     \u001b[38;5;66;03m# Binary mode does not support 'encoding' and 'newline'.\u001b[39;00m\n\u001b[0;32m    861\u001b[0m     \u001b[38;5;28;01mif\u001b[39;00m ioargs\u001b[38;5;241m.\u001b[39mencoding \u001b[38;5;129;01mand\u001b[39;00m \u001b[38;5;124m\"\u001b[39m\u001b[38;5;124mb\u001b[39m\u001b[38;5;124m\"\u001b[39m \u001b[38;5;129;01mnot\u001b[39;00m \u001b[38;5;129;01min\u001b[39;00m ioargs\u001b[38;5;241m.\u001b[39mmode:\n\u001b[0;32m    862\u001b[0m         \u001b[38;5;66;03m# Encoding\u001b[39;00m\n\u001b[1;32m--> 863\u001b[0m         handle \u001b[38;5;241m=\u001b[39m \u001b[38;5;28;43mopen\u001b[39;49m\u001b[43m(\u001b[49m\n\u001b[0;32m    864\u001b[0m \u001b[43m            \u001b[49m\u001b[43mhandle\u001b[49m\u001b[43m,\u001b[49m\n\u001b[0;32m    865\u001b[0m \u001b[43m            \u001b[49m\u001b[43mioargs\u001b[49m\u001b[38;5;241;43m.\u001b[39;49m\u001b[43mmode\u001b[49m\u001b[43m,\u001b[49m\n\u001b[0;32m    866\u001b[0m \u001b[43m            \u001b[49m\u001b[43mencoding\u001b[49m\u001b[38;5;241;43m=\u001b[39;49m\u001b[43mioargs\u001b[49m\u001b[38;5;241;43m.\u001b[39;49m\u001b[43mencoding\u001b[49m\u001b[43m,\u001b[49m\n\u001b[0;32m    867\u001b[0m \u001b[43m            \u001b[49m\u001b[43merrors\u001b[49m\u001b[38;5;241;43m=\u001b[39;49m\u001b[43merrors\u001b[49m\u001b[43m,\u001b[49m\n\u001b[0;32m    868\u001b[0m \u001b[43m            \u001b[49m\u001b[43mnewline\u001b[49m\u001b[38;5;241;43m=\u001b[39;49m\u001b[38;5;124;43m\"\u001b[39;49m\u001b[38;5;124;43m\"\u001b[39;49m\u001b[43m,\u001b[49m\n\u001b[0;32m    869\u001b[0m \u001b[43m        \u001b[49m\u001b[43m)\u001b[49m\n\u001b[0;32m    870\u001b[0m     \u001b[38;5;28;01melse\u001b[39;00m:\n\u001b[0;32m    871\u001b[0m         \u001b[38;5;66;03m# Binary mode\u001b[39;00m\n\u001b[0;32m    872\u001b[0m         handle \u001b[38;5;241m=\u001b[39m \u001b[38;5;28mopen\u001b[39m(handle, ioargs\u001b[38;5;241m.\u001b[39mmode)\n",
      "\u001b[1;31mFileNotFoundError\u001b[0m: [Errno 2] No such file or directory: 'veh16_missing.csv'"
     ]
    }
   ],
   "source": [
    "veh = pd.read_csv('veh16_missing.csv')\n",
    "print(veh.shape)"
   ]
  },
  {
   "cell_type": "code",
   "execution_count": null,
   "metadata": {},
   "outputs": [
    {
     "name": "stdout",
     "output_type": "stream",
     "text": [
      "<class 'pandas.core.frame.DataFrame'>\n",
      "RangeIndex: 1213 entries, 0 to 1212\n",
      "Data columns (total 12 columns):\n",
      " #   Column                             Non-Null Count  Dtype  \n",
      "---  ------                             --------------  -----  \n",
      " 0   Eng Displ                          845 non-null    float64\n",
      " 1   # Cyl                              1213 non-null   int64  \n",
      " 2   Comb Unadj FE - Conventional Fuel  1213 non-null   object \n",
      " 3   # Gears                            1213 non-null   int64  \n",
      " 4   Max Ethanol % - Gasoline           1187 non-null   float64\n",
      " 5   Intake Valves Per Cyl              1213 non-null   int64  \n",
      " 6   Exhaust Valves Per Cyl             1213 non-null   int64  \n",
      " 7   Trans Creeper Gear                 1213 non-null   object \n",
      " 8   Unique Label?                      1136 non-null   object \n",
      " 9   Air Aspiration Method Desc         1213 non-null   object \n",
      " 10  Fuel Metering Sys Desc             1213 non-null   object \n",
      " 11  Cyl Deact?                         985 non-null    object \n",
      "dtypes: float64(2), int64(4), object(6)\n",
      "memory usage: 113.8+ KB\n"
     ]
    }
   ],
   "source": [
    "veh.info()"
   ]
  },
  {
   "cell_type": "code",
   "execution_count": null,
   "metadata": {},
   "outputs": [],
   "source": [
    "veh.loc[veh['Comb Unadj FE - Conventional Fuel'] == 'Mod','Comb Unadj FE - Conventional Fuel'] = 0\n",
    "veh[ 'Comb Unadj FE - Conventional Fuel'] = veh['Comb Unadj FE - Conventional Fuel'].astype (float)"
   ]
  },
  {
   "cell_type": "code",
   "execution_count": null,
   "metadata": {},
   "outputs": [
    {
     "data": {
      "text/html": [
       "<div>\n",
       "<style scoped>\n",
       "    .dataframe tbody tr th:only-of-type {\n",
       "        vertical-align: middle;\n",
       "    }\n",
       "\n",
       "    .dataframe tbody tr th {\n",
       "        vertical-align: top;\n",
       "    }\n",
       "\n",
       "    .dataframe thead th {\n",
       "        text-align: right;\n",
       "    }\n",
       "</style>\n",
       "<table border=\"1\" class=\"dataframe\">\n",
       "  <thead>\n",
       "    <tr style=\"text-align: right;\">\n",
       "      <th></th>\n",
       "      <th>Eng Displ</th>\n",
       "      <th># Cyl</th>\n",
       "      <th>Comb Unadj FE - Conventional Fuel</th>\n",
       "      <th># Gears</th>\n",
       "      <th>Max Ethanol % - Gasoline</th>\n",
       "      <th>Intake Valves Per Cyl</th>\n",
       "      <th>Exhaust Valves Per Cyl</th>\n",
       "    </tr>\n",
       "  </thead>\n",
       "  <tbody>\n",
       "    <tr>\n",
       "      <th>0</th>\n",
       "      <td>NaN</td>\n",
       "      <td>4</td>\n",
       "      <td>32.8729</td>\n",
       "      <td>6</td>\n",
       "      <td>10.0</td>\n",
       "      <td>2</td>\n",
       "      <td>2</td>\n",
       "    </tr>\n",
       "    <tr>\n",
       "      <th>1</th>\n",
       "      <td>NaN</td>\n",
       "      <td>4</td>\n",
       "      <td>41.5766</td>\n",
       "      <td>6</td>\n",
       "      <td>10.0</td>\n",
       "      <td>2</td>\n",
       "      <td>2</td>\n",
       "    </tr>\n",
       "    <tr>\n",
       "      <th>2</th>\n",
       "      <td>1.8</td>\n",
       "      <td>4</td>\n",
       "      <td>42.3624</td>\n",
       "      <td>6</td>\n",
       "      <td>15.0</td>\n",
       "      <td>2</td>\n",
       "      <td>2</td>\n",
       "    </tr>\n",
       "    <tr>\n",
       "      <th>3</th>\n",
       "      <td>3.5</td>\n",
       "      <td>6</td>\n",
       "      <td>29.3963</td>\n",
       "      <td>6</td>\n",
       "      <td>10.0</td>\n",
       "      <td>2</td>\n",
       "      <td>2</td>\n",
       "    </tr>\n",
       "    <tr>\n",
       "      <th>4</th>\n",
       "      <td>NaN</td>\n",
       "      <td>6</td>\n",
       "      <td>25.4694</td>\n",
       "      <td>6</td>\n",
       "      <td>85.0</td>\n",
       "      <td>2</td>\n",
       "      <td>2</td>\n",
       "    </tr>\n",
       "    <tr>\n",
       "      <th>...</th>\n",
       "      <td>...</td>\n",
       "      <td>...</td>\n",
       "      <td>...</td>\n",
       "      <td>...</td>\n",
       "      <td>...</td>\n",
       "      <td>...</td>\n",
       "      <td>...</td>\n",
       "    </tr>\n",
       "    <tr>\n",
       "      <th>1208</th>\n",
       "      <td>NaN</td>\n",
       "      <td>8</td>\n",
       "      <td>23.5520</td>\n",
       "      <td>8</td>\n",
       "      <td>15.0</td>\n",
       "      <td>2</td>\n",
       "      <td>2</td>\n",
       "    </tr>\n",
       "    <tr>\n",
       "      <th>1209</th>\n",
       "      <td>5.0</td>\n",
       "      <td>8</td>\n",
       "      <td>23.8378</td>\n",
       "      <td>8</td>\n",
       "      <td>15.0</td>\n",
       "      <td>2</td>\n",
       "      <td>2</td>\n",
       "    </tr>\n",
       "    <tr>\n",
       "      <th>1210</th>\n",
       "      <td>3.3</td>\n",
       "      <td>6</td>\n",
       "      <td>26.3588</td>\n",
       "      <td>6</td>\n",
       "      <td>10.0</td>\n",
       "      <td>2</td>\n",
       "      <td>2</td>\n",
       "    </tr>\n",
       "    <tr>\n",
       "      <th>1211</th>\n",
       "      <td>2.0</td>\n",
       "      <td>4</td>\n",
       "      <td>38.6792</td>\n",
       "      <td>6</td>\n",
       "      <td>10.0</td>\n",
       "      <td>2</td>\n",
       "      <td>2</td>\n",
       "    </tr>\n",
       "    <tr>\n",
       "      <th>1212</th>\n",
       "      <td>2.7</td>\n",
       "      <td>4</td>\n",
       "      <td>27.5097</td>\n",
       "      <td>6</td>\n",
       "      <td>15.0</td>\n",
       "      <td>2</td>\n",
       "      <td>2</td>\n",
       "    </tr>\n",
       "  </tbody>\n",
       "</table>\n",
       "<p>1213 rows × 7 columns</p>\n",
       "</div>"
      ],
      "text/plain": [
       "      Eng Displ  # Cyl  Comb Unadj FE - Conventional Fuel  # Gears  \\\n",
       "0           NaN      4                            32.8729        6   \n",
       "1           NaN      4                            41.5766        6   \n",
       "2           1.8      4                            42.3624        6   \n",
       "3           3.5      6                            29.3963        6   \n",
       "4           NaN      6                            25.4694        6   \n",
       "...         ...    ...                                ...      ...   \n",
       "1208        NaN      8                            23.5520        8   \n",
       "1209        5.0      8                            23.8378        8   \n",
       "1210        3.3      6                            26.3588        6   \n",
       "1211        2.0      4                            38.6792        6   \n",
       "1212        2.7      4                            27.5097        6   \n",
       "\n",
       "      Max Ethanol % - Gasoline  Intake Valves Per Cyl  Exhaust Valves Per Cyl  \n",
       "0                         10.0                      2                       2  \n",
       "1                         10.0                      2                       2  \n",
       "2                         15.0                      2                       2  \n",
       "3                         10.0                      2                       2  \n",
       "4                         85.0                      2                       2  \n",
       "...                        ...                    ...                     ...  \n",
       "1208                      15.0                      2                       2  \n",
       "1209                      15.0                      2                       2  \n",
       "1210                      10.0                      2                       2  \n",
       "1211                      10.0                      2                       2  \n",
       "1212                      15.0                      2                       2  \n",
       "\n",
       "[1213 rows x 7 columns]"
      ]
     },
     "execution_count": 673,
     "metadata": {},
     "output_type": "execute_result"
    }
   ],
   "source": [
    "num_veh = veh.select_dtypes(include=['number'])\n",
    "num_veh"
   ]
  },
  {
   "cell_type": "code",
   "execution_count": null,
   "metadata": {},
   "outputs": [
    {
     "name": "stdout",
     "output_type": "stream",
     "text": [
      "Eng Displ                             True\n",
      "# Cyl                                False\n",
      "Comb Unadj FE - Conventional Fuel    False\n",
      "# Gears                              False\n",
      "Max Ethanol % - Gasoline              True\n",
      "Intake Valves Per Cyl                False\n",
      "Exhaust Valves Per Cyl               False\n",
      "dtype: bool\n"
     ]
    }
   ],
   "source": [
    "print(num_veh.isnull().any())"
   ]
  },
  {
   "cell_type": "code",
   "execution_count": null,
   "metadata": {},
   "outputs": [
    {
     "name": "stdout",
     "output_type": "stream",
     "text": [
      "Eng Displ                            False\n",
      "# Cyl                                False\n",
      "Comb Unadj FE - Conventional Fuel    False\n",
      "# Gears                              False\n",
      "Max Ethanol % - Gasoline             False\n",
      "Intake Valves Per Cyl                False\n",
      "Exhaust Valves Per Cyl               False\n",
      "dtype: bool\n"
     ]
    }
   ],
   "source": [
    "#fill in any missing values with 0\n",
    "num_veh_fill=num_veh.fillna(0)\n",
    "print(num_veh_fill.isnull().any())\n"
   ]
  },
  {
   "cell_type": "code",
   "execution_count": null,
   "metadata": {},
   "outputs": [],
   "source": [
    "X_train = num_veh_fill.drop('Comb Unadj FE - Conventional Fuel', axis=1)\n",
    "y_train = num_veh_fill['Comb Unadj FE - Conventional Fuel']"
   ]
  },
  {
   "cell_type": "code",
   "execution_count": null,
   "metadata": {},
   "outputs": [],
   "source": [
    "import numpy as np"
   ]
  },
  {
   "cell_type": "code",
   "execution_count": null,
   "metadata": {},
   "outputs": [],
   "source": [
    "def test(X_train, y_train, n_estimators=150):\n",
    "    rf = RandomForestRegressor(n_estimators=n_estimators, n_jobs=-1, oob_score=True)\n",
    "    rf.fit(X_train, y_train)\n",
    "    oob = rf.oob_score_\n",
    "    print(f\"OOB R^2 {oob:.5f} \")\n",
    "    return rf, oob"
   ]
  },
  {
   "cell_type": "code",
   "execution_count": null,
   "metadata": {},
   "outputs": [
    {
     "name": "stdout",
     "output_type": "stream",
     "text": [
      "OOB R^2 0.73875 \n"
     ]
    },
    {
     "data": {
      "text/plain": [
       "(RandomForestRegressor(n_estimators=150, n_jobs=-1, oob_score=True),\n",
       " 0.7387493447650768)"
      ]
     },
     "execution_count": 679,
     "metadata": {},
     "output_type": "execute_result"
    }
   ],
   "source": [
    "test(X_train,y_train,n_estimators=150)"
   ]
  },
  {
   "cell_type": "markdown",
   "metadata": {},
   "source": [
    "### Part 2 - Normalize missing values\n",
    "\n",
    "In this part you should: \n",
    " - use Section 7.4 of the textbook as a guide\n",
    " - convert **all** representations of missing data to a **single** representation\n",
    " \n",
    "#### Code (15 marks)"
   ]
  },
  {
   "cell_type": "code",
   "execution_count": null,
   "metadata": {},
   "outputs": [],
   "source": [
    "import pandas.api.types"
   ]
  },
  {
   "cell_type": "code",
   "execution_count": null,
   "metadata": {},
   "outputs": [
    {
     "data": {
      "text/plain": [
       "array([nan, 1.8, 3.5, 3.4, 2.5, 2. , 6.3, 6.2, 1.5, 3. , 1.4, 3.6, 6.7,\n",
       "       4. , 1.6, 2.4, 6.5, 2.7, 5. , 3.7, 6. , 3.8, 5.7, 5.5, 5.9, 1. ,\n",
       "       6.4, 4.7, 5.3, 2.8, 0.9, 3.3, 4.6, 4.4, 5.2, 4.3, 4.8, 3.9, 6.6,\n",
       "       2.3, 8.4, 5.6, 6.8])"
      ]
     },
     "execution_count": 681,
     "metadata": {},
     "output_type": "execute_result"
    }
   ],
   "source": [
    "veh['Eng Displ'].unique()"
   ]
  },
  {
   "cell_type": "code",
   "execution_count": null,
   "metadata": {},
   "outputs": [
    {
     "data": {
      "text/plain": [
       "array([ 4,  6, 12,  8,  3, 10,  5], dtype=int64)"
      ]
     },
     "execution_count": 682,
     "metadata": {},
     "output_type": "execute_result"
    }
   ],
   "source": [
    "veh['# Cyl'].unique()"
   ]
  },
  {
   "cell_type": "code",
   "execution_count": null,
   "metadata": {},
   "outputs": [
    {
     "data": {
      "text/plain": [
       "array([32.8729, 41.5766, 42.3624, 29.3963, 25.4694, 27.9923, 25.6217,\n",
       "       28.7955, 25.5194, 36.1046, 42.6092, 36.0247, 25.1277, 27.925 ,\n",
       "       31.0325, 34.7404, 28.044 , 17.0002, 32.9334, 22.0201, 21.6821,\n",
       "       43.1463, 31.0576, 29.8129, 27.723 , 33.7222, 30.4958, 47.715 ,\n",
       "       18.7023, 40.434 , 33.1491, 20.076 , 29.3854, 21.0918, 17.4989,\n",
       "       34.2453, 36.703 , 30.722 , 36.4494, 46.403 , 21.7662, 22.577 ,\n",
       "       28.7377, 19.0572, 39.9942, 22.3336, 36.5144, 33.0335, 23.4292,\n",
       "       16.2581, 25.263 , 21.2882, 34.2607, 19.7548, 31.9339, 34.3738,\n",
       "       26.7662, 29.8923, 50.1953, 38.0027, 31.9024, 42.8024, 35.3153,\n",
       "       34.7884, 46.6393, 40.0936, 35.8215, 33.9853, 25.6832, 27.3233,\n",
       "       38.6615, 17.2204, 40.4893, 37.46  , 29.4792, 26.3559, 30.2755,\n",
       "       28.5872, 34.858 , 31.4586, 26.2931, 37.7104, 25.5795, 26.1317,\n",
       "       22.8351, 20.7441, 31.524 , 28.0618, 19.0009, 28.4872, 36.7729,\n",
       "       31.5846, 31.3542, 57.4981, 47.9062, 29.6903, 15.9434, 40.7884,\n",
       "       19.4738, 30.071 , 73.9715, 21.4008, 28.2451, 19.0631, 24.6374,\n",
       "       34.0888, 33.9305, 35.4089, 24.7961, 29.4319, 26.2333, 25.5781,\n",
       "       44.8007, 40.7561, 19.2488, 54.9862, 15.0373, 29.3454, 36.7702,\n",
       "        0.    , 24.4655, 40.9252, 36.1495, 38.0851, 19.7148, 26.1394,\n",
       "       34.9149, 40.4766, 40.1673, 36.7711, 42.1145, 23.9079, 27.2296,\n",
       "       24.0623, 37.0001, 25.0855, 39.1294, 43.9612, 24.1148, 41.7113,\n",
       "       19.4   , 57.4438, 25.9542, 34.4702, 58.137 , 36.2351, 48.3501,\n",
       "       32.3011, 23.4876, 20.0858, 20.5806, 23.0686, 23.3029, 60.7663,\n",
       "       40.6667, 37.0727, 25.2918, 24.9756, 27.5271, 29.9044, 20.3611,\n",
       "       28.6571, 29.5548, 22.5528, 33.5228, 31.7073, 23.7062, 35.8588,\n",
       "       23.7057, 33.8444, 20.7274, 38.7615, 35.4387, 32.3839, 33.7239,\n",
       "       26.4254, 30.386 , 47.9309, 26.6947, 23.8253, 23.9231, 33.6531,\n",
       "       36.5318, 40.402 , 27.1333, 36.3569, 26.4165, 23.552 , 26.8467,\n",
       "       30.1701, 31.3949, 22.9319, 25.7642, 23.9191, 30.8317, 39.0171,\n",
       "       38.8882, 21.3053, 25.8927, 28.9863, 31.1683, 28.0884, 32.1877,\n",
       "       36.8664, 36.4714, 32.3693, 31.6054, 41.3417, 25.1945, 27.893 ,\n",
       "       24.9505, 18.5388, 36.0136, 39.3042, 37.1407, 25.0428, 28.6582,\n",
       "       29.7169, 24.1988, 32.4015, 27.3812, 31.5042, 24.9737, 20.2436,\n",
       "       30.8919, 23.7426, 26.1804, 46.2043, 27.4553, 28.9841, 26.9652,\n",
       "       28.9989, 31.8522, 23.1471, 30.5489, 22.3814, 36.2994, 38.547 ,\n",
       "       27.0634, 41.3224, 23.8458, 39.7459, 28.0689, 27.3539, 32.2322,\n",
       "       21.7078, 28.3245, 33.1162, 29.1587, 29.5284, 32.6906, 30.9621,\n",
       "       23.763 , 46.0738, 36.7597, 35.7394, 34.2039, 26.7546, 40.8578,\n",
       "       24.7318, 24.2609, 27.9311, 40.4989, 29.8745, 28.5768, 24.1231,\n",
       "       37.4744, 29.7663, 21.2378, 33.4779, 28.5088, 34.2582, 35.7883,\n",
       "       18.7055, 26.5587, 21.06  , 47.3206, 19.9146, 27.678 , 31.4377,\n",
       "       30.2321, 19.4794, 31.0006, 30.7316, 41.8183, 27.4358, 20.4316,\n",
       "       38.8168, 23.7318, 23.2231, 32.9102, 43.5134, 23.5293, 42.6986,\n",
       "       38.8263, 27.0717, 34.8913, 43.137 , 32.32  , 22.6993, 24.9612,\n",
       "       20.0593, 35.694 , 18.4432, 44.938 , 27.1345, 39.4158, 29.9289,\n",
       "       29.3442, 39.0686, 30.0445, 24.6108, 41.8682, 24.0347, 22.7512,\n",
       "       41.3187, 25.3471, 28.5587, 32.2641, 29.9288, 38.6695, 51.5229,\n",
       "       36.5584, 30.7928, 25.8034, 26.8436, 20.4256, 28.5339, 33.2017,\n",
       "       25.4725, 28.921 , 30.168 , 37.6194, 34.3094, 21.8546, 38.1848,\n",
       "       29.5465, 32.5607, 41.6347, 36.5912, 28.1856, 23.1399, 19.5485,\n",
       "       23.7927, 22.8165, 30.622 , 28.6337, 54.8519, 24.2977, 24.9615,\n",
       "       31.6705, 28.8146, 40.2056, 22.9366, 33.8583, 35.359 , 46.0818,\n",
       "       22.0572, 27.1227, 59.6009, 23.9658, 22.6895, 30.8233, 25.8816,\n",
       "       39.8798, 23.1232, 24.3456, 23.5269, 24.887 , 39.083 , 58.9105,\n",
       "       19.7604, 21.6822, 40.9182, 37.4408, 30.8707, 21.3382, 41.1988,\n",
       "       39.3024, 28.7688, 46.9885, 30.2138, 22.6459, 33.1552, 26.8876,\n",
       "       45.9695, 28.5121, 37.529 , 24.4063, 38.3493, 30.8483, 29.3225,\n",
       "       32.3213, 21.702 , 37.6361, 34.184 , 21.7336, 24.9252, 25.6629,\n",
       "       21.6422, 17.0498, 29.8465, 24.655 , 26.1655, 38.9115, 32.3286,\n",
       "       40.7139, 25.6932, 47.363 , 27.5021, 22.0647, 31.6963, 27.4482,\n",
       "       28.1409, 25.0571, 29.2127, 25.485 , 33.032 , 23.6182, 28.1669,\n",
       "       27.4306, 32.565 , 46.0415, 38.567 , 27.5924, 38.5928, 23.5286,\n",
       "       28.5257, 32.6193, 34.817 , 28.3804, 29.9106, 24.3967, 31.5932,\n",
       "       23.567 , 38.9275, 28.1632, 29.1837, 19.5895, 28.0295, 35.4975,\n",
       "       26.033 , 30.5942, 38.9219, 29.5685, 23.2683, 30.0196, 33.7698,\n",
       "       27.3649, 23.8945, 31.1365, 31.4223, 37.0547, 40.9289, 36.0919,\n",
       "       39.4295, 26.659 , 23.9906, 30.429 , 42.0623, 28.1137, 33.8504,\n",
       "       37.1622, 41.3746, 35.71  , 43.0468, 33.001 , 18.9828, 61.4574,\n",
       "       56.3403, 26.988 , 35.1626, 44.8342, 29.1735, 35.3856, 15.7566,\n",
       "       34.991 , 36.9738, 23.9504, 21.4598, 38.8602, 40.96  , 16.2512,\n",
       "       24.8373, 40.5462, 37.0863, 39.4406, 30.5524, 23.737 , 34.1594,\n",
       "       36.0232, 28.0306, 28.1715, 33.9441, 27.0543, 42.4116, 32.4219,\n",
       "       27.812 , 36.2224, 27.2124, 21.3254, 33.686 , 34.5467, 37.6174,\n",
       "       18.1658, 23.5618, 26.7724, 33.1643, 38.1901, 31.1634, 30.8097,\n",
       "       25.6153, 22.8851, 21.0349, 42.9466, 26.7073, 24.3481, 29.0083,\n",
       "       22.9603, 17.4353, 21.7207, 39.6509, 80.8472, 36.4112, 29.8385,\n",
       "       24.911 , 33.1767, 21.5645, 32.6493, 28.9732, 35.5079, 29.0058,\n",
       "       33.2132, 27.5527, 43.1946, 47.3261, 25.9349, 37.3048, 22.8629,\n",
       "       20.657 , 41.1267, 24.2684, 36.5569, 43.9632, 33.5308, 42.2753,\n",
       "       32.5198, 35.1555, 26.9606, 31.7452, 27.2521, 30.0255, 32.9256,\n",
       "       20.9595, 28.8255, 16.7727, 28.7492, 32.2297, 33.0657, 20.5262,\n",
       "       36.6205, 19.4895, 27.428 , 28.3376, 49.569 , 23.2098, 23.2927,\n",
       "       39.1304, 37.2161, 26.78  , 38.8661, 42.1307, 24.9479, 23.8378,\n",
       "       33.7774, 32.2136, 25.9449, 29.7274, 27.9589, 32.6621, 32.1625,\n",
       "       41.8441, 27.8973, 38.9194, 39.4874, 38.1099, 20.7975, 26.9163,\n",
       "       42.4665, 15.4573, 42.0163, 43.5383, 40.9298, 33.1927, 35.4215,\n",
       "       29.9555, 15.9811, 18.915 , 23.4963, 37.8655, 33.9408, 30.4629,\n",
       "       28.3382, 28.4429, 27.1836, 45.1318, 28.0246, 34.1618, 37.4089,\n",
       "       24.0788, 45.8707, 19.9778, 41.221 , 23.6078, 25.5255, 41.7513,\n",
       "       27.6266, 24.9197, 31.3529, 26.843 , 29.5668, 41.1333, 36.5517,\n",
       "       29.5387, 25.9196, 34.7393, 32.5902, 34.7341, 43.5074, 17.1546,\n",
       "       16.7215, 19.3314, 46.8014, 35.4141, 21.6933, 35.8565, 41.2528,\n",
       "       39.1805, 21.2675, 28.1984, 35.9078, 31.1731, 24.3785, 30.6586,\n",
       "       33.1474, 27.172 , 21.9302, 23.961 , 25.3158, 38.2932, 24.6534,\n",
       "       44.7387, 29.1624, 43.7538, 49.8286, 29.6747, 35.1617, 29.4795,\n",
       "       31.1732, 25.5474, 26.4728, 34.9238, 30.0156, 44.7932, 55.2009,\n",
       "       19.3741, 15.7691, 38.0961, 34.4707, 35.9089, 25.3494, 46.2524,\n",
       "       40.385 , 25.6842, 23.3561, 32.561 , 27.2096, 50.4312, 30.5156,\n",
       "       33.1457, 25.4318, 27.7568, 37.7023, 21.054 , 31.2766, 29.51  ,\n",
       "       34.048 , 33.045 , 48.0282, 30.7045, 46.7886, 14.8481, 29.1557,\n",
       "       15.7502, 25.2803, 24.4714, 22.1657, 23.6574, 29.6193, 25.2242,\n",
       "       17.7814, 26.1927, 30.0782, 24.8658, 32.7935, 47.2984, 33.6298,\n",
       "       41.2163, 22.0571, 21.4943, 24.3378, 25.6229, 40.7746, 36.3177,\n",
       "       19.1822, 40.0906, 26.4753, 28.7947, 29.5908, 35.9721, 19.716 ,\n",
       "       33.6611, 29.6067, 20.288 , 25.7561, 30.324 , 35.729 , 41.7031,\n",
       "       25.257 , 51.1079, 26.2856, 38.8724, 25.4865, 40.0888, 23.9679,\n",
       "       26.6838, 26.3815, 23.0968, 26.8477, 31.5496, 38.2124, 43.8888,\n",
       "       31.3984, 40.9725, 29.3003, 24.1401, 32.9383, 25.4716, 23.7078,\n",
       "       33.1287, 29.6672, 16.5736, 41.9449, 31.7256, 17.2283, 31.2523,\n",
       "       30.4846, 38.0792, 37.4789, 24.821 , 31.1626, 24.216 , 21.236 ,\n",
       "       23.1842, 36.4983, 40.262 , 34.3969, 35.674 , 19.4396, 33.5766,\n",
       "       26.9372, 23.7577, 26.9813, 32.9693, 24.3451, 43.7586, 26.6055,\n",
       "       37.5834, 25.7513, 28.1841, 42.4765, 28.0575, 26.2833, 28.1837,\n",
       "       38.7069, 24.4234, 30.4957, 32.3228, 37.5265, 31.5863, 21.9194,\n",
       "       28.1423, 20.8591, 43.5178, 32.374 , 36.1537, 40.022 , 29.9713,\n",
       "       23.6806, 23.6948, 21.1487, 38.2242, 35.2361, 22.7871, 32.8549,\n",
       "       24.041 , 21.9258, 28.514 , 19.7608, 28.9693, 28.7819, 45.1334,\n",
       "       26.1873, 32.2692, 28.0684, 33.7787, 30.9403, 31.9813, 44.3586,\n",
       "       37.1059, 33.5999, 28.5578, 29.3634, 30.8134, 37.2657, 40.8125,\n",
       "       28.4267, 20.6362, 22.34  , 30.9081, 28.6649, 21.6811, 21.394 ,\n",
       "       32.6673, 36.3872, 33.6514, 32.287 , 28.7394, 34.8632, 20.4058,\n",
       "       25.707 , 44.0972, 22.5584, 26.7474, 27.6702, 38.7501, 25.0798,\n",
       "       34.1029, 20.0004, 40.5501, 32.3356, 34.3746, 25.7502, 23.2243,\n",
       "       26.9406, 25.9414, 34.1212, 36.265 , 40.4492, 30.4167, 26.8613,\n",
       "       24.6105, 25.9717, 35.1828, 23.9236, 29.8142, 24.9037, 22.7455,\n",
       "       23.4849, 33.5991, 35.3768, 32.2154, 34.8745, 43.4096, 44.3543,\n",
       "       28.1384, 26.3918, 18.3331, 41.1251, 28.5513, 38.2167, 70.7819,\n",
       "       38.2417, 18.7088, 26.8422, 22.859 , 42.9332, 26.8581, 18.1901,\n",
       "       28.7162, 37.7617, 30.1071, 33.7274, 24.3943, 29.9285, 33.5764,\n",
       "       44.3685, 25.0911, 23.3803, 35.1331, 29.3086, 38.3003, 25.9443,\n",
       "       35.4451, 40.8472, 33.5824, 20.8619, 28.1656, 26.8575, 34.7953,\n",
       "       28.8162, 27.8144, 20.8515, 26.8159, 26.2202, 39.0069, 28.9051,\n",
       "       24.0412, 38.1862, 29.965 , 23.7353, 34.844 , 50.1999, 50.3669,\n",
       "       31.647 , 38.1292, 27.1045, 26.3588, 38.6792, 27.5097])"
      ]
     },
     "execution_count": 683,
     "metadata": {},
     "output_type": "execute_result"
    }
   ],
   "source": [
    "veh['Comb Unadj FE - Conventional Fuel'].unique()"
   ]
  },
  {
   "cell_type": "code",
   "execution_count": null,
   "metadata": {},
   "outputs": [
    {
     "data": {
      "text/plain": [
       "array([6, 8, 7, 9, 5, 1, 4], dtype=int64)"
      ]
     },
     "execution_count": 684,
     "metadata": {},
     "output_type": "execute_result"
    }
   ],
   "source": [
    "veh['# Gears'].unique()"
   ]
  },
  {
   "cell_type": "code",
   "execution_count": null,
   "metadata": {},
   "outputs": [
    {
     "data": {
      "text/plain": [
       "array([10., 15., 85., nan])"
      ]
     },
     "execution_count": 685,
     "metadata": {},
     "output_type": "execute_result"
    }
   ],
   "source": [
    "veh['Max Ethanol % - Gasoline'].unique()"
   ]
  },
  {
   "cell_type": "code",
   "execution_count": null,
   "metadata": {},
   "outputs": [
    {
     "data": {
      "text/plain": [
       "array([2, 1], dtype=int64)"
      ]
     },
     "execution_count": 686,
     "metadata": {},
     "output_type": "execute_result"
    }
   ],
   "source": [
    "veh['Intake Valves Per Cyl'].unique()"
   ]
  },
  {
   "cell_type": "code",
   "execution_count": null,
   "metadata": {},
   "outputs": [
    {
     "data": {
      "text/plain": [
       "array([2, 1], dtype=int64)"
      ]
     },
     "execution_count": 687,
     "metadata": {},
     "output_type": "execute_result"
    }
   ],
   "source": [
    "veh['Exhaust Valves Per Cyl'].unique()"
   ]
  },
  {
   "cell_type": "code",
   "execution_count": null,
   "metadata": {},
   "outputs": [
    {
     "data": {
      "text/plain": [
       "array(['N', 'Y'], dtype=object)"
      ]
     },
     "execution_count": 688,
     "metadata": {},
     "output_type": "execute_result"
    }
   ],
   "source": [
    "veh['Trans Creeper Gear'].unique()"
   ]
  },
  {
   "cell_type": "code",
   "execution_count": null,
   "metadata": {},
   "outputs": [
    {
     "data": {
      "text/plain": [
       "array(['N', 'Y', nan], dtype=object)"
      ]
     },
     "execution_count": 689,
     "metadata": {},
     "output_type": "execute_result"
    }
   ],
   "source": [
    "veh['Unique Label?'].unique()"
   ]
  },
  {
   "cell_type": "code",
   "execution_count": null,
   "metadata": {},
   "outputs": [
    {
     "data": {
      "text/plain": [
       "array(['Naturally Aspirated', 'none given', 'Turbocharged',\n",
       "       'Supercharged', 'Turbocharged+Supercharged'], dtype=object)"
      ]
     },
     "execution_count": 690,
     "metadata": {},
     "output_type": "execute_result"
    }
   ],
   "source": [
    "veh['Air Aspiration Method Desc'].unique()"
   ]
  },
  {
   "cell_type": "code",
   "execution_count": null,
   "metadata": {},
   "outputs": [
    {
     "data": {
      "text/plain": [
       "array(['Multipoint/sequential fuel injection',\n",
       "       'Spark Ignition Direct Injection', '@@@@@',\n",
       "       'Spark Ignition direct & ported injection',\n",
       "       'Common Rail Direct Diesel Injection',\n",
       "       'Direct Diesel Injection (non-common rail)'], dtype=object)"
      ]
     },
     "execution_count": 691,
     "metadata": {},
     "output_type": "execute_result"
    }
   ],
   "source": [
    "veh['Fuel Metering Sys Desc'].unique()"
   ]
  },
  {
   "cell_type": "code",
   "execution_count": null,
   "metadata": {},
   "outputs": [
    {
     "data": {
      "text/plain": [
       "array(['N', '   ', nan, 'Y'], dtype=object)"
      ]
     },
     "execution_count": 692,
     "metadata": {},
     "output_type": "execute_result"
    }
   ],
   "source": [
    "veh['Cyl Deact?'].unique()"
   ]
  },
  {
   "cell_type": "code",
   "execution_count": null,
   "metadata": {},
   "outputs": [],
   "source": [
    "from pandas.api.types import is_float_dtype,is_object_dtype\n",
    "def veh_normalize(veh):\n",
    "    for col in veh.columns:\n",
    "        if  is_object_dtype(veh[col]) or is_float_dtype(veh[col]) :\n",
    "            veh[col] = veh[col].fillna(np.nan)\n",
    "            veh[col] = veh[col].replace('none given', np.nan)\n",
    "            veh[col] = veh[col].replace('@@@@@', np.nan)\n",
    "            veh[col] = veh[col].replace('', np.nan)"
   ]
  },
  {
   "cell_type": "code",
   "execution_count": null,
   "metadata": {},
   "outputs": [],
   "source": [
    "veh_normalize(veh)"
   ]
  },
  {
   "cell_type": "markdown",
   "metadata": {},
   "source": [
    "#### Question (5 marks)\n",
    "\n",
    "Note here all the different ways missing data was represented in the data.   "
   ]
  },
  {
   "cell_type": "markdown",
   "metadata": {},
   "source": [
    "**Enter your answer here:**"
   ]
  },
  {
   "cell_type": "markdown",
   "metadata": {},
   "source": [
    "### Part 3 - Categorical features\n",
    "\n",
    "In this part you should: \n",
    " - use Section 7.5.1 as a guide\n",
    " - only use ordinal encoding \n",
    " - convert **all** non-numeric features to numeric \n",
    " - handle any missing values\n",
    " \n",
    "#### Code (25 marks)"
   ]
  },
  {
   "cell_type": "code",
   "execution_count": null,
   "metadata": {},
   "outputs": [
    {
     "data": {
      "text/html": [
       "<div>\n",
       "<style scoped>\n",
       "    .dataframe tbody tr th:only-of-type {\n",
       "        vertical-align: middle;\n",
       "    }\n",
       "\n",
       "    .dataframe tbody tr th {\n",
       "        vertical-align: top;\n",
       "    }\n",
       "\n",
       "    .dataframe thead th {\n",
       "        text-align: right;\n",
       "    }\n",
       "</style>\n",
       "<table border=\"1\" class=\"dataframe\">\n",
       "  <thead>\n",
       "    <tr style=\"text-align: right;\">\n",
       "      <th></th>\n",
       "      <th>Trans Creeper Gear</th>\n",
       "      <th>Unique Label?</th>\n",
       "      <th>Air Aspiration Method Desc</th>\n",
       "      <th>Fuel Metering Sys Desc</th>\n",
       "      <th>Cyl Deact?</th>\n",
       "    </tr>\n",
       "  </thead>\n",
       "  <tbody>\n",
       "    <tr>\n",
       "      <th>0</th>\n",
       "      <td>N</td>\n",
       "      <td>N</td>\n",
       "      <td>Naturally Aspirated</td>\n",
       "      <td>Multipoint/sequential fuel injection</td>\n",
       "      <td>N</td>\n",
       "    </tr>\n",
       "    <tr>\n",
       "      <th>1</th>\n",
       "      <td>N</td>\n",
       "      <td>N</td>\n",
       "      <td>NaN</td>\n",
       "      <td>Spark Ignition Direct Injection</td>\n",
       "      <td>N</td>\n",
       "    </tr>\n",
       "    <tr>\n",
       "      <th>2</th>\n",
       "      <td>N</td>\n",
       "      <td>N</td>\n",
       "      <td>NaN</td>\n",
       "      <td>Multipoint/sequential fuel injection</td>\n",
       "      <td></td>\n",
       "    </tr>\n",
       "    <tr>\n",
       "      <th>3</th>\n",
       "      <td>N</td>\n",
       "      <td>N</td>\n",
       "      <td>NaN</td>\n",
       "      <td>Spark Ignition Direct Injection</td>\n",
       "      <td></td>\n",
       "    </tr>\n",
       "    <tr>\n",
       "      <th>4</th>\n",
       "      <td>N</td>\n",
       "      <td>N</td>\n",
       "      <td>Naturally Aspirated</td>\n",
       "      <td>Multipoint/sequential fuel injection</td>\n",
       "      <td>N</td>\n",
       "    </tr>\n",
       "    <tr>\n",
       "      <th>...</th>\n",
       "      <td>...</td>\n",
       "      <td>...</td>\n",
       "      <td>...</td>\n",
       "      <td>...</td>\n",
       "      <td>...</td>\n",
       "    </tr>\n",
       "    <tr>\n",
       "      <th>1208</th>\n",
       "      <td>N</td>\n",
       "      <td>N</td>\n",
       "      <td>NaN</td>\n",
       "      <td>Spark Ignition direct &amp; ported injection</td>\n",
       "      <td>NaN</td>\n",
       "    </tr>\n",
       "    <tr>\n",
       "      <th>1209</th>\n",
       "      <td>N</td>\n",
       "      <td>N</td>\n",
       "      <td>NaN</td>\n",
       "      <td>Spark Ignition direct &amp; ported injection</td>\n",
       "      <td>N</td>\n",
       "    </tr>\n",
       "    <tr>\n",
       "      <th>1210</th>\n",
       "      <td>N</td>\n",
       "      <td>N</td>\n",
       "      <td>Naturally Aspirated</td>\n",
       "      <td>Spark Ignition Direct Injection</td>\n",
       "      <td>N</td>\n",
       "    </tr>\n",
       "    <tr>\n",
       "      <th>1211</th>\n",
       "      <td>N</td>\n",
       "      <td>N</td>\n",
       "      <td>NaN</td>\n",
       "      <td>NaN</td>\n",
       "      <td>NaN</td>\n",
       "    </tr>\n",
       "    <tr>\n",
       "      <th>1212</th>\n",
       "      <td>N</td>\n",
       "      <td>N</td>\n",
       "      <td>Naturally Aspirated</td>\n",
       "      <td>Multipoint/sequential fuel injection</td>\n",
       "      <td>NaN</td>\n",
       "    </tr>\n",
       "  </tbody>\n",
       "</table>\n",
       "<p>1213 rows × 5 columns</p>\n",
       "</div>"
      ],
      "text/plain": [
       "     Trans Creeper Gear Unique Label? Air Aspiration Method Desc  \\\n",
       "0                     N             N        Naturally Aspirated   \n",
       "1                     N             N                        NaN   \n",
       "2                     N             N                        NaN   \n",
       "3                     N             N                        NaN   \n",
       "4                     N             N        Naturally Aspirated   \n",
       "...                 ...           ...                        ...   \n",
       "1208                  N             N                        NaN   \n",
       "1209                  N             N                        NaN   \n",
       "1210                  N             N        Naturally Aspirated   \n",
       "1211                  N             N                        NaN   \n",
       "1212                  N             N        Naturally Aspirated   \n",
       "\n",
       "                        Fuel Metering Sys Desc Cyl Deact?  \n",
       "0         Multipoint/sequential fuel injection          N  \n",
       "1              Spark Ignition Direct Injection          N  \n",
       "2         Multipoint/sequential fuel injection             \n",
       "3              Spark Ignition Direct Injection             \n",
       "4         Multipoint/sequential fuel injection          N  \n",
       "...                                        ...        ...  \n",
       "1208  Spark Ignition direct & ported injection        NaN  \n",
       "1209  Spark Ignition direct & ported injection          N  \n",
       "1210           Spark Ignition Direct Injection          N  \n",
       "1211                                       NaN        NaN  \n",
       "1212      Multipoint/sequential fuel injection        NaN  \n",
       "\n",
       "[1213 rows x 5 columns]"
      ]
     },
     "execution_count": 695,
     "metadata": {},
     "output_type": "execute_result"
    }
   ],
   "source": [
    "non_num_veh = veh.select_dtypes(exclude=['number'])\n",
    "non_num_veh"
   ]
  },
  {
   "cell_type": "code",
   "execution_count": null,
   "metadata": {},
   "outputs": [],
   "source": [
    "from sklearn.preprocessing import  OrdinalEncoder\n",
    "ordinal = OrdinalEncoder()\n",
    "veh['Air Aspiration Method Desc'] = ordinal.fit_transform(veh[['Air Aspiration Method Desc']])\n",
    "veh['Cyl Deact?'] = ordinal.fit_transform(veh[['Cyl Deact?']])\n",
    "veh['Fuel Metering Sys Desc'] = ordinal.fit_transform(veh[['Fuel Metering Sys Desc']])\n",
    "veh['Trans Creeper Gear'] = ordinal.fit_transform(veh[['Trans Creeper Gear']])\n",
    "veh['Unique Label?'] = ordinal.fit_transform(veh[['Unique Label?']])\n"
   ]
  },
  {
   "cell_type": "code",
   "execution_count": null,
   "metadata": {},
   "outputs": [],
   "source": [
    "#from pandas.api.types import is_categorical_dtype\n",
    "#def veh_obj_to_cat(veh):\n",
    "    #for col in veh.columns:\n",
    "        #if is_object_dtype(veh[col]) or is_float_dtype(veh[col]):\n",
    "            #veh[col] = veh[col].astype('category').cat.as_ordered()\n",
    "            \n",
    "\n",
    "#def veh_cat_to_ordinal(veh):\n",
    "    #for col in veh.columns:\n",
    "        #if is_categorical_dtype(veh[col]):\n",
    "            #veh[col] = veh[col].cat.codes + 1"
   ]
  },
  {
   "cell_type": "code",
   "execution_count": null,
   "metadata": {},
   "outputs": [],
   "source": [
    "#veh_obj_to_cat(veh)"
   ]
  },
  {
   "cell_type": "code",
   "execution_count": null,
   "metadata": {},
   "outputs": [],
   "source": [
    "#veh_cat_to_ordinal(veh)"
   ]
  },
  {
   "cell_type": "code",
   "execution_count": null,
   "metadata": {},
   "outputs": [
    {
     "name": "stdout",
     "output_type": "stream",
     "text": [
      "<class 'pandas.core.frame.DataFrame'>\n",
      "RangeIndex: 1213 entries, 0 to 1212\n",
      "Data columns (total 12 columns):\n",
      " #   Column                             Non-Null Count  Dtype  \n",
      "---  ------                             --------------  -----  \n",
      " 0   Eng Displ                          845 non-null    float64\n",
      " 1   # Cyl                              1213 non-null   int64  \n",
      " 2   Comb Unadj FE - Conventional Fuel  1213 non-null   float64\n",
      " 3   # Gears                            1213 non-null   int64  \n",
      " 4   Max Ethanol % - Gasoline           1187 non-null   float64\n",
      " 5   Intake Valves Per Cyl              1213 non-null   int64  \n",
      " 6   Exhaust Valves Per Cyl             1213 non-null   int64  \n",
      " 7   Trans Creeper Gear                 1213 non-null   float64\n",
      " 8   Unique Label?                      1136 non-null   float64\n",
      " 9   Air Aspiration Method Desc         687 non-null    float64\n",
      " 10  Fuel Metering Sys Desc             841 non-null    float64\n",
      " 11  Cyl Deact?                         985 non-null    float64\n",
      "dtypes: float64(8), int64(4)\n",
      "memory usage: 113.8 KB\n"
     ]
    }
   ],
   "source": [
    "veh.info()"
   ]
  },
  {
   "cell_type": "markdown",
   "metadata": {},
   "source": [
    "### Part 4 - Numeric features\n",
    "\n",
    "In this part you should: \n",
    " - use Section 7.5.2 as a guide\n",
    " - handle any missing values\n",
    " \n",
    "#### Code (30 marks)"
   ]
  },
  {
   "cell_type": "code",
   "execution_count": null,
   "metadata": {},
   "outputs": [
    {
     "name": "stdout",
     "output_type": "stream",
     "text": [
      "Eng Displ                             True\n",
      "# Cyl                                False\n",
      "Comb Unadj FE - Conventional Fuel    False\n",
      "# Gears                              False\n",
      "Max Ethanol % - Gasoline              True\n",
      "Intake Valves Per Cyl                False\n",
      "Exhaust Valves Per Cyl               False\n",
      "Trans Creeper Gear                   False\n",
      "Unique Label?                         True\n",
      "Air Aspiration Method Desc            True\n",
      "Fuel Metering Sys Desc                True\n",
      "Cyl Deact?                            True\n",
      "dtype: bool\n"
     ]
    }
   ],
   "source": [
    "print(veh.isnull().any())"
   ]
  },
  {
   "cell_type": "code",
   "execution_count": null,
   "metadata": {},
   "outputs": [],
   "source": [
    "def fix_missing_num(veh, colname):\n",
    "    veh[colname] = pd.isnull(veh[colname])\n",
    "    veh[colname].fillna(veh[colname].median(), inplace=True)"
   ]
  },
  {
   "cell_type": "code",
   "execution_count": null,
   "metadata": {},
   "outputs": [],
   "source": [
    "fix_missing_num(veh,'Eng Displ')\n",
    "fix_missing_num(veh,'Max Ethanol % - Gasoline')\n",
    "fix_missing_num(veh,'Unique Label?')\n",
    "fix_missing_num(veh,'Air Aspiration Method Desc')\n",
    "fix_missing_num(veh,'Fuel Metering Sys Desc')\n",
    "fix_missing_num(veh,'Cyl Deact?')"
   ]
  },
  {
   "cell_type": "code",
   "execution_count": null,
   "metadata": {},
   "outputs": [
    {
     "name": "stdout",
     "output_type": "stream",
     "text": [
      "Eng Displ                            False\n",
      "# Cyl                                False\n",
      "Comb Unadj FE - Conventional Fuel    False\n",
      "# Gears                              False\n",
      "Max Ethanol % - Gasoline             False\n",
      "Intake Valves Per Cyl                False\n",
      "Exhaust Valves Per Cyl               False\n",
      "Trans Creeper Gear                   False\n",
      "Unique Label?                        False\n",
      "Air Aspiration Method Desc           False\n",
      "Fuel Metering Sys Desc               False\n",
      "Cyl Deact?                           False\n",
      "dtype: bool\n"
     ]
    }
   ],
   "source": [
    "print(veh.isnull().any())"
   ]
  },
  {
   "cell_type": "markdown",
   "metadata": {},
   "source": [
    "### Part 5 - Create and evaluate a final model\n",
    "\n",
    "In this part you should:\n",
    " - create and evaluate a model using all the features after processing them in Parts 2, 3, and 4 above \n",
    "\n",
    "#### Code (10 marks)"
   ]
  },
  {
   "cell_type": "code",
   "execution_count": null,
   "metadata": {},
   "outputs": [
    {
     "ename": "NameError",
     "evalue": "name 'veh' is not defined",
     "output_type": "error",
     "traceback": [
      "\u001b[1;31m---------------------------------------------------------------------------\u001b[0m",
      "\u001b[1;31mNameError\u001b[0m                                 Traceback (most recent call last)",
      "Cell \u001b[1;32mIn[3], line 1\u001b[0m\n\u001b[1;32m----> 1\u001b[0m X \u001b[38;5;241m=\u001b[39m \u001b[43mveh\u001b[49m\u001b[38;5;241m.\u001b[39mdrop(\u001b[38;5;124m'\u001b[39m\u001b[38;5;124mComb Unadj FE - Conventional Fuel\u001b[39m\u001b[38;5;124m'\u001b[39m, axis\u001b[38;5;241m=\u001b[39m\u001b[38;5;241m1\u001b[39m)\n\u001b[0;32m      2\u001b[0m y \u001b[38;5;241m=\u001b[39m veh[\u001b[38;5;124m'\u001b[39m\u001b[38;5;124mComb Unadj FE - Conventional Fuel\u001b[39m\u001b[38;5;124m'\u001b[39m]\n",
      "\u001b[1;31mNameError\u001b[0m: name 'veh' is not defined"
     ]
    }
   ],
   "source": [
    "X = veh.drop('Comb Unadj FE - Conventional Fuel', axis=1)\n",
    "y = veh['Comb Unadj FE - Conventional Fuel']"
   ]
  },
  {
   "cell_type": "markdown",
   "metadata": {},
   "source": [
    "#### Questions (5 marks)\n",
    "\n",
    "Provide answers to the following:\n",
    " 1. calculate the percent difference between the results of Part 1 and Part 5 (make sure you are using the correct formula for percent difference) \n",
    " 2. based on the percent difference, state whether or not the results of Part 5 are an improvement over the results of Part 1"
   ]
  },
  {
   "cell_type": "markdown",
   "metadata": {},
   "source": [
    "**Enter your answers here:**"
   ]
  }
 ],
 "metadata": {
  "kernelspec": {
   "display_name": "Python 3 (ipykernel)",
   "language": "python",
   "name": "python3"
  },
  "language_info": {
   "codemirror_mode": {
    "name": "ipython",
    "version": 3
   },
   "file_extension": ".py",
   "mimetype": "text/x-python",
   "name": "python",
   "nbconvert_exporter": "python",
   "pygments_lexer": "ipython3",
   "version": "3.12.4"
  }
 },
 "nbformat": 4,
 "nbformat_minor": 4
}
